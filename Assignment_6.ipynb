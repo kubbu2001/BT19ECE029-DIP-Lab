{
  "nbformat": 4,
  "nbformat_minor": 0,
  "metadata": {
    "colab": {
      "name": "Assignment 6.ipynb",
      "provenance": [],
      "authorship_tag": "ABX9TyPlpHyaNYfcyi47sQq72T4S",
      "include_colab_link": true
    },
    "kernelspec": {
      "name": "python3",
      "display_name": "Python 3"
    },
    "language_info": {
      "name": "python"
    }
  },
  "cells": [
    {
      "cell_type": "markdown",
      "metadata": {
        "id": "view-in-github",
        "colab_type": "text"
      },
      "source": [
        "<a href=\"https://colab.research.google.com/github/kubbu2001/BT19ECE029-DIP-Lab/blob/main/Assignment_6.ipynb\" target=\"_parent\"><img src=\"https://colab.research.google.com/assets/colab-badge.svg\" alt=\"Open In Colab\"/></a>"
      ]
    },
    {
      "cell_type": "markdown",
      "source": [
        "ASSIGNMENT 6: BIT PLANE SLICING - TANISHK CHANDRASHEKHAR SHEWARE (BT19ECE029)"
      ],
      "metadata": {
        "id": "nYRDmtvYizyy"
      }
    },
    {
      "cell_type": "code",
      "execution_count": 7,
      "metadata": {
        "colab": {
          "base_uri": "https://localhost:8080/"
        },
        "id": "WARYCZZsiyBU",
        "outputId": "51ce34ac-bc8a-4972-f391-86a69526ce3e"
      },
      "outputs": [
        {
          "output_type": "execute_result",
          "data": {
            "text/plain": [
              "True"
            ]
          },
          "metadata": {},
          "execution_count": 7
        }
      ],
      "source": [
        "import numpy as np\n",
        "import cv2\n",
        "\n",
        "#create a image array\n",
        "img = cv2.imread(\"/content/T.jpg\",cv2.IMREAD_GRAYSCALE)\n",
        "row ,col = img.shape\n",
        "#convert each interger pixel value of given image to a bit pixel value of 8-\n",
        " #bits\n",
        "def intToBitArray(img) :\n",
        "    list = []\n",
        "\n",
        "    for i in range(row):\n",
        "        for j in range(col):\n",
        "             list.append (np.binary_repr( img[i][j] ,width=8  ) )\n",
        "\n",
        "    return list #the binary_repr() fucntion returns binary values but in \n",
        "                #string \n",
        "                #, not integer, which has it's own perk as you will notice   \n",
        "\n",
        " #as variable name says ,it's list of pixel values in binary , but in 1 \n",
        " #dimension\n",
        "imgIn1D = intToBitArray(img)\n",
        "#reshaping above 1D array to a matrix aka image\n",
        "#imgIn2D = np.reshape(imgIn1D , (360,640) )\n",
        "def bitplane(bitImgVal , img1D ):\n",
        "  bitList = [  int(   i[bitImgVal]  )    for i in img1D]\n",
        "  return bitList\n",
        "#i don't know why but the multiplication factor is : 2^(n-1) where n is the bit number\n",
        "#example, if binary pixel value is 11001010 and n = 3 , factor = 2^(3-1)\n",
        "#image represented by 8th bit plane\n",
        "eightbitimg = np.array( bitplane(0, imgIn1D ) ) * 128\n",
        "\n",
        "#image represented by 7th bit plane\n",
        "sevenbitimg = np.array( bitplane(1,imgIn1D) ) * 64\n",
        "\n",
        "#image represented by 6th bit plane\n",
        "sixbitimg = np.array( bitplane(1,imgIn1D) ) * 32\n",
        "\n",
        "#image represented by 5th bit plane\n",
        "fivebitimg = np.array( bitplane(1,imgIn1D) ) * 16\n",
        "\n",
        "#image represented by 4th bit plane\n",
        "fourbitimg = np.array( bitplane(1,imgIn1D) ) * 8\n",
        "\n",
        "#image represented by 3rd bit plane\n",
        "threebitimg = np.array( bitplane(1,imgIn1D) ) * 4\n",
        "\n",
        "#image represented by 2nd bit plane\n",
        "twobitimg = np.array( bitplane(1,imgIn1D) ) * 2\n",
        "\n",
        "#image represented by 1st bit plane\n",
        "onebitimg = np.array( bitplane(1,imgIn1D) ) * 1\n",
        "\n",
        "#save eight bit plane\n",
        "eightbitimg = np.reshape(eightbitimg,(row,col))\n",
        "cv2.imwrite(\"8bitvalue.jpg\" , eightbitimg )\n",
        "\n",
        "#save seven bit plane\n",
        "sevenbitimg = np.reshape(sevenbitimg,(row,col))\n",
        "cv2.imwrite(\"7bitvalue.jpg\",sevenbitimg)\n",
        "\n",
        "#save six bit plane\n",
        "sixbitimg = np.reshape(sixbitimg,(row,col))\n",
        "cv2.imwrite(\"6bitvalue.jpg\",sixbitimg)\n",
        "\n",
        "\n",
        "#save five bit plane\n",
        "fivebitimg = np.reshape(fivebitimg,(row,col))\n",
        "cv2.imwrite(\"5bitvalue.jpg\",fivebitimg)\n",
        "\n",
        "\n",
        "#save four bit plane\n",
        "fourbitimg = np.reshape(fourbitimg,(row,col))\n",
        "cv2.imwrite(\"4bitvalue.jpg\",fourbitimg)\n",
        "\n",
        "\n",
        "#save three bit plane\n",
        "threebitimg = np.reshape(threebitimg,(row,col))\n",
        "cv2.imwrite(\"3bitvalue.jpg\",threebitimg)\n",
        "\n",
        "\n",
        "#save two bit plane\n",
        "twobitimg = np.reshape(twobitimg,(row,col))\n",
        "cv2.imwrite(\"2bitvalue.jpg\",twobitimg)\n",
        "\n",
        "\n",
        "#save one bit plane\n",
        "onebitimg = np.reshape(onebitimg,(row,col))\n",
        "cv2.imwrite(\"1bitvalue.jpg\",onebitimg)\n",
        "\n"
      ]
    }
  ]
}