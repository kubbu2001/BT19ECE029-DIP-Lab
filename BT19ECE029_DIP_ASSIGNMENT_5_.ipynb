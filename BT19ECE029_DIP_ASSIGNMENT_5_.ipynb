{
  "nbformat": 4,
  "nbformat_minor": 0,
  "metadata": {
    "colab": {
      "name": "BT19ECE029_DIP_ASSIGNMENT_5 .ipynb",
      "provenance": [],
      "authorship_tag": "ABX9TyNRnKGAlc0hGQT4buaqsHMm",
      "include_colab_link": true
    },
    "kernelspec": {
      "name": "python3",
      "display_name": "Python 3"
    },
    "language_info": {
      "name": "python"
    }
  },
  "cells": [
    {
      "cell_type": "markdown",
      "metadata": {
        "id": "view-in-github",
        "colab_type": "text"
      },
      "source": [
        "<a href=\"https://colab.research.google.com/github/kubbu2001/BT19ECE029-DIP-Lab/blob/main/BT19ECE029_DIP_ASSIGNMENT_5_.ipynb\" target=\"_parent\"><img src=\"https://colab.research.google.com/assets/colab-badge.svg\" alt=\"Open In Colab\"/></a>"
      ]
    },
    {
      "cell_type": "markdown",
      "source": [
        "ASSIGNMENT 5\n",
        "HISTOGRAM EQUALIZATION\n",
        "TANISHK CHANDRASHEKHAR SHEWARE\n",
        "BT19ECE029"
      ],
      "metadata": {
        "id": "Phxw7990vR68"
      }
    },
    {
      "cell_type": "code",
      "source": [
        "import cv2\n",
        "from google.colab.patches import cv2_imshow\n",
        "import numpy as np\n",
        "import math\n",
        "\n",
        "from matplotlib import pyplot as plt\n",
        "\n",
        "# Importing all necessary libraries"
      ],
      "metadata": {
        "id": "TcJXau0mNxAq"
      },
      "execution_count": 14,
      "outputs": []
    },
    {
      "cell_type": "code",
      "source": [
        "#Function for makeing an intensity wise frequency distribution table\n",
        "def frequencyDistribution(image):\n",
        "  freqTable = []\n",
        "  M = len(image)\n",
        "  N = len(image[0])\n",
        "  for i in range (0,256):\n",
        "    var = 0\n",
        "    for x in range(M):\n",
        "      for y in range(N):\n",
        "        if i == image[x][y]:\n",
        "          var = var + 1\n",
        "    freqTable.append(var)\n",
        "  \n",
        "  return freqTable\n",
        "\n"
      ],
      "metadata": {
        "id": "4TeIenfyAKox"
      },
      "execution_count": 15,
      "outputs": []
    },
    {
      "cell_type": "markdown",
      "source": [
        ""
      ],
      "metadata": {
        "id": "PHfDOcr8PTWW"
      }
    },
    {
      "cell_type": "code",
      "source": [
        "# Colour image to Gray image converting function\n",
        "def bgr_to_gray(img):\n",
        "  B, G, R = img[:,:,0], img[:,:,1], img[:,:,2]\n",
        "  temp = 0.299*R + 0.114*B + 0.587*G\n",
        "  temp = temp.astype(int)\n",
        "  return temp\n"
      ],
      "metadata": {
        "id": "PIaZOBLiA4Ou"
      },
      "execution_count": 16,
      "outputs": []
    },
    {
      "cell_type": "code",
      "execution_count": 17,
      "metadata": {
        "colab": {
          "base_uri": "https://localhost:8080/",
          "height": 438
        },
        "id": "1pOuxAYivMyu",
        "outputId": "820668d5-d38d-47ac-db6b-2b2fe094b361"
      },
      "outputs": [
        {
          "output_type": "stream",
          "name": "stdout",
          "text": [
            "[0, 0, 0, 0, 0, 0, 0, 0, 0, 0, 0, 0, 0, 0, 0, 0, 0, 0, 0, 0, 0, 0, 0, 0, 0, 0, 0, 0, 0, 0, 0, 0, 0, 0, 0, 0, 0, 0, 0, 0, 0, 0, 0, 0, 0, 0, 0, 0, 0, 0, 0, 0, 2304, 0, 0, 6912, 0, 0, 11520, 0, 2304, 9216, 6912, 0, 4608, 6912, 4608, 2304, 11520, 6912, 9216, 4608, 2304, 4608, 0, 2304, 2304, 2304, 2304, 4608, 0, 0, 0, 2304, 0, 4608, 0, 2304, 2304, 0, 2304, 0, 0, 0, 2304, 0, 0, 0, 0, 0, 0, 0, 0, 0, 4608, 0, 2304, 0, 0, 2304, 0, 0, 0, 2304, 0, 0, 0, 0, 0, 0, 0, 0, 2304, 0, 0, 2304, 0, 0, 0, 0, 0, 0, 0, 0, 0, 0, 0, 0, 0, 0, 0, 0, 0, 0, 2304, 0, 0, 0, 0, 0, 0, 0, 0, 0, 2304, 0, 0, 0, 0, 0, 0, 0, 0, 0, 0, 0, 0, 0, 0, 0, 0, 0, 0, 0, 0, 0, 0, 0, 0, 0, 0, 0, 0, 0, 0, 0, 0, 0, 0, 0, 0, 0, 0, 0, 0, 0, 0, 0, 0, 0, 0, 0, 0, 0, 0, 0, 0, 0, 0, 0, 0, 0, 0, 0, 0, 0, 0, 0, 0, 0, 0, 0, 0, 0, 0, 0, 0, 0, 0, 0, 0, 0, 0, 0, 0, 0, 0, 0, 0, 0, 0, 0, 0, 0, 0, 0, 0, 0, 0, 0, 0, 0, 0, 0, 0, 0]\n"
          ]
        },
        {
          "output_type": "display_data",
          "data": {
            "image/png": "[encoded data removed]",
            "text/plain": [
              "<PIL.Image.Image image mode=L size=384x384 at 0x7F58AE094E50>"
            ]
          },
          "metadata": {}
        }
      ],
      "source": [
        "#importing image\n",
        "I = cv2.imread(\"/content/88IH.png\")\n",
        "\n",
        "# converting imported colour image to grayscale\n",
        "Igray = bgr_to_gray(I)\n",
        "\n",
        "#getting the frequency distribution of the intensities \n",
        "freq = frequencyDistribution(Igray)\n",
        "print(freq)\n",
        "\n",
        "cv2_imshow(Igray)\n",
        "\n",
        "#Finding the dimesions of the image\n",
        "M = len(Igray)\n",
        "N = len(Igray[0])\n"
      ]
    },
    {
      "cell_type": "code",
      "source": [
        "# Minimum non zero CDF Value\n",
        "def findMIN(table):\n",
        "  tablefreqCDF = np.cumsum(table)\n",
        "  deletedtablefreqCDF = [i for i in tablefreqCDF if i != 0]\n",
        "  foundMIN = min(deletedtablefreqCDF)\n",
        "  return foundMIN\n",
        "  "
      ],
      "metadata": {
        "id": "7_Ydlk5ZGNl3"
      },
      "execution_count": 18,
      "outputs": []
    },
    {
      "cell_type": "code",
      "source": [
        "\n",
        "sum = 0\n",
        "freqCDF = np.cumsum(freq)\n",
        "#print(freqCDF)\n",
        "\n",
        "minCDF = findMIN(freq)\n",
        "M = len(Igray)\n",
        "N = len(Igray[0])\n",
        "\n",
        "equilizationIMG = np.zeros( (M, N) , dtype=np.int64)\n",
        "\n",
        "\n",
        "for i in range(M):\n",
        "  for j in range(N):\n",
        "    intensity  = Igray[i][j] - 1\n",
        "    temp = int(((freqCDF[intensity])/((M*N))) * 255)\n",
        "    #print(temp)\n",
        "    equilizationIMG[i][j] = temp\n",
        "\n",
        "cv2_imshow(equilizationIMG)\n",
        "\n",
        "\n",
        "\n"
      ],
      "metadata": {
        "colab": {
          "base_uri": "https://localhost:8080/",
          "height": 401
        },
        "id": "22jaVnZXSA6z",
        "outputId": "84cff6d7-b9e7-4189-def8-89b17a83ed1a"
      },
      "execution_count": 19,
      "outputs": [
        {
          "output_type": "display_data",
          "data": {
            "image/png": "[encoded data removed]",
            "text/plain": [
              "<PIL.Image.Image image mode=L size=384x384 at 0x7F58ADF74810>"
            ]
          },
          "metadata": {}
        }
      ]
    },
    {
      "cell_type": "code",
      "source": [
        "\n",
        " \n",
        "# Creating histogram of unequilized image\n",
        "fig, ax = plt.subplots(figsize =(20, 10))\n",
        "ax.hist(freq, bins = [i for i in range(0,255,20)])\n",
        "\n",
        "# Show plot\n",
        "plt.show()\n",
        " "
      ],
      "metadata": {
        "colab": {
          "base_uri": "https://localhost:8080/",
          "height": 592
        },
        "id": "iKLitQ0BC0tL",
        "outputId": "e13aedf4-582a-400f-f70e-030eb2d01069"
      },
      "execution_count": 20,
      "outputs": [
        {
          "output_type": "display_data",
          "data": {
            "image/png": "[encoded data removed]",
            "text/plain": [
              "<Figure size 1440x720 with 1 Axes>"
            ]
          },
          "metadata": {
            "needs_background": "light"
          }
        }
      ]
    },
    {
      "cell_type": "code",
      "source": [
        " \n",
        "# Creating histogram of equilized Image\n",
        "\n",
        "freqDistributionEquilized = frequencyDistribution(equilizationIMG)\n",
        "print(freqDistributionEquilized)\n"
      ],
      "metadata": {
        "colab": {
          "base_uri": "https://localhost:8080/"
        },
        "id": "vWcoLh76_VM4",
        "outputId": "d787c15d-736b-41b4-f70e-592a24bda13d"
      },
      "execution_count": 21,
      "outputs": [
        {
          "output_type": "stream",
          "name": "stdout",
          "text": [
            "[2304, 0, 0, 6912, 0, 0, 0, 0, 0, 0, 0, 0, 0, 0, 0, 11520, 0, 0, 0, 0, 0, 0, 0, 0, 0, 0, 0, 0, 0, 0, 0, 0, 0, 0, 0, 2304, 0, 0, 0, 9216, 0, 0, 0, 0, 0, 0, 0, 0, 0, 0, 0, 0, 0, 0, 0, 6912, 0, 0, 0, 0, 0, 0, 0, 0, 0, 0, 0, 4608, 0, 0, 0, 0, 0, 0, 0, 6912, 0, 0, 0, 0, 0, 0, 0, 0, 0, 0, 0, 4608, 0, 0, 0, 0, 0, 0, 0, 2304, 0, 0, 0, 11520, 0, 0, 0, 0, 0, 0, 0, 0, 0, 0, 0, 0, 0, 0, 0, 0, 0, 0, 0, 6912, 0, 0, 0, 0, 0, 0, 0, 0, 0, 0, 0, 9216, 0, 0, 0, 0, 0, 0, 0, 0, 0, 0, 0, 0, 0, 0, 0, 4608, 0, 0, 0, 0, 0, 0, 0, 2304, 0, 0, 0, 4608, 0, 0, 0, 0, 0, 0, 0, 2304, 0, 0, 0, 2304, 0, 0, 0, 2304, 0, 0, 0, 2304, 0, 0, 0, 4608, 0, 0, 0, 0, 0, 0, 0, 2304, 0, 0, 0, 4608, 0, 0, 0, 0, 0, 0, 0, 2304, 0, 0, 0, 2304, 0, 0, 0, 2304, 0, 0, 0, 2304, 0, 0, 0, 4608, 0, 0, 0, 0, 0, 0, 0, 2304, 0, 0, 0, 2304, 0, 0, 0, 2304, 0, 0, 0, 2304, 0, 0, 0, 2304, 0, 0, 0, 2304, 0, 0, 0, 2304, 0, 0, 0, 0]\n"
          ]
        }
      ]
    }
  ]
}